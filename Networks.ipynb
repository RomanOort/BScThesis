{
 "cells": [
  {
   "cell_type": "code",
   "execution_count": 47,
   "metadata": {},
   "outputs": [
    {
     "ename": "ImportError",
     "evalue": "cannot import name 'Timer' from 'timer' (/home/roman/miniconda3/envs/python39/lib/python3.9/site-packages/timer/__init__.py)",
     "output_type": "error",
     "traceback": [
      "\u001b[0;31m---------------------------------------------------------------------------\u001b[0m",
      "\u001b[0;31mImportError\u001b[0m                               Traceback (most recent call last)",
      "\u001b[0;32m<ipython-input-47-eb00310e9a11>\u001b[0m in \u001b[0;36m<module>\u001b[0;34m\u001b[0m\n\u001b[1;32m      5\u001b[0m \u001b[0;32mfrom\u001b[0m \u001b[0mscipy\u001b[0m\u001b[0;34m.\u001b[0m\u001b[0mlinalg\u001b[0m \u001b[0;32mimport\u001b[0m \u001b[0meig\u001b[0m\u001b[0;34m\u001b[0m\u001b[0;34m\u001b[0m\u001b[0m\n\u001b[1;32m      6\u001b[0m \u001b[0;32mimport\u001b[0m \u001b[0mtime\u001b[0m\u001b[0;34m\u001b[0m\u001b[0;34m\u001b[0m\u001b[0m\n\u001b[0;32m----> 7\u001b[0;31m \u001b[0;32mfrom\u001b[0m \u001b[0mtimer\u001b[0m \u001b[0;32mimport\u001b[0m \u001b[0mTimer\u001b[0m\u001b[0;34m\u001b[0m\u001b[0;34m\u001b[0m\u001b[0m\n\u001b[0m",
      "\u001b[0;31mImportError\u001b[0m: cannot import name 'Timer' from 'timer' (/home/roman/miniconda3/envs/python39/lib/python3.9/site-packages/timer/__init__.py)"
     ]
    }
   ],
   "source": [
    "import numpy as np\n",
    "import matplotlib.pyplot as plt\n",
    "import random\n",
    "from tqdm.notebook import tqdm\n",
    "from scipy.linalg import eig\n",
    "import time"
   ]
  },
  {
   "cell_type": "code",
   "execution_count": 144,
   "metadata": {},
   "outputs": [],
   "source": [
    "class Network():\n",
    "    def __init__(self, p_selflink=1, n_agents=1000):\n",
    "        self.truth = random.uniform(0,1)\n",
    "        self.p_selflink = p_selflink\n",
    "        self.weights, self.beliefs = self.grow_network_instant(n_agents=n_agents)\n",
    "        self.speed_test(n_agents=n_agents, increase_degree=False)\n",
    "    \n",
    "    def gen_t0(self):\n",
    "        # First agent always has a self link to ensure aperiodicity\n",
    "        adjacency = np.ones((1,1))\n",
    "        return adjacency\n",
    "    \n",
    "    def speed_test(self, n_agents, increase_degree=False):\n",
    "        instant = []\n",
    "        incremental = []\n",
    "        for k in range(10):\n",
    "            instant_time = []\n",
    "            incremental_time = []\n",
    "            sizes = []\n",
    "            for i in tqdm(range(0, n_agents+1, 100)):\n",
    "                sizes.append(i)\n",
    "\n",
    "                t_start = time.perf_counter()\n",
    "                network_instant, _ = self.grow_network_instant(n_agents=i, increase_degree=increase_degree)\n",
    "                t_end = time.perf_counter()\n",
    "                instant_time.append((t_end-t_start)*1000)\n",
    "                if k==9 and i>0:\n",
    "                    instant_out_degree = np.count_nonzero(network, axis=1)\n",
    "                    instant_in_degree = np.count_nonzero(network, axis=0)\n",
    "\n",
    "                t_start = time.perf_counter()\n",
    "                network = self.gen_t0()\n",
    "                for j in range(i):\n",
    "                    network = self.grow_network_concat(network)\n",
    "                if increase_degree:\n",
    "                    for n in range(network.shape[0]):\n",
    "                        add_in_degree = int(np.floor(np.random.normal(2, 1)))\n",
    "                        add_out_degree = int(np.floor(np.random.normal(2,1)))\n",
    "\n",
    "                        if add_in_degree > 0:\n",
    "                            for _ in range(add_in_degree):\n",
    "                                j = np.random.randint(0, network.shape[0])\n",
    "                                network[j, n] = 1\n",
    "\n",
    "                        if add_in_degree > 0:\n",
    "                            for _ in range(add_out_degree):\n",
    "                                j = np.random.randint(0, network.shape[0])\n",
    "                                network[n, j] = 1\n",
    "                t_end = time.perf_counter()\n",
    "                incremental_time.append((t_end-t_start)*1000)\n",
    "                if k==9 and i>0:\n",
    "                    incremental_out_degree = np.count_nonzero(network, axis=1)\n",
    "                    incremental_in_degree = np.count_nonzero(network, axis=0)\n",
    "                \n",
    "                \n",
    "            instant.append(instant_time)\n",
    "            incremental.append(incremental_time)            \n",
    "            \n",
    "        plt.plot(sizes, np.mean(np.array(instant), axis=0), label=\"Instant\")\n",
    "        plt.plot(sizes, np.mean(np.array(incremental), axis=0), label=\"Incremental\")\n",
    "        plt.legend()\n",
    "        plt.show()\n",
    "        \n",
    "        plt.hist(instant_out_degree, bins=np.amax(instant_out_degree))\n",
    "        plt.show()\n",
    "        plt.hist(instant_in_degree, bins=np.amax(instant_in_degree))\n",
    "        plt.show()\n",
    "        \n",
    "        plt.hist(incremental_out_degree, bins=np.amax(incremental_out_degree))\n",
    "        plt.show()\n",
    "        plt.hist(incremental_in_degree, bins=np.amax(incremental_in_degree))\n",
    "        plt.show()\n",
    "        \n",
    "        \n",
    "    def test_to_wisdom(self, n_agents):\n",
    "        # Create network\n",
    "        self.weights, self.beliefs = self.grow_network_instant(n_agents)\n",
    "        convergence_times = []\n",
    "        \n",
    "        # Get time to converge for each n\n",
    "        for i in range(n_agents):\n",
    "            # Get stochastic matrix from weights matrix\n",
    "            T = normalize_weights(self.weights[:i+1, :i+1])\n",
    "            # Converge network and save the time\n",
    "            t_to_convergence = self.converge_network(T)\n",
    "            convergence_times.append(t_to_convergence)\n",
    "            \n",
    "            # Check if network is wise\n",
    "            if (T@np.array(self.beliefs)[:i+1])[0] == self.truth:\n",
    "                # Number of agents at which the network became wise\n",
    "                return i+1, convergence_times\n",
    "        else:\n",
    "            # If the initial size of the network was not sufficient\n",
    "            # to attain wisdom grow it incrementally until it does\n",
    "            while (T@np.array(self.beliefs))[0] != self.truth:\n",
    "                # Grow network, beliefs, and normalize the weights\n",
    "                self.weights = self.grow_network_concat(self.weights)\n",
    "                T = self.normalize_weights(self.weights)\n",
    "                self.beliefs = self.grow_beliefs(self.beliefs)\n",
    "                \n",
    "                # Converge the network\n",
    "                t_to_convergence = self.converge_network(T)\n",
    "                convergence_times.append(t_to_convergence)\n",
    "                \n",
    "        return self.beliefs.shape[0]+1, converge_times\n",
    "    \n",
    "    def normalize_weights(self, weights):\n",
    "        return weights/weights.sum(1)[:, np.newaxis]\n",
    "    \n",
    "    def grow_network_concat(self, weights):\n",
    "        \"\"\"\n",
    "        Grows the existing network by 1 agent.\n",
    "        Creates links between this agent and the existing agents in the network.\n",
    "        \n",
    "        \"\"\"\n",
    "        \n",
    "        # Grow network by one agent by concatenating a row and column of zeroes\n",
    "        weights = np.concatenate((weights, np.zeros((1, weights.shape[1]))), axis=0)\n",
    "        weights = np.concatenate((weights, np.zeros((weights.shape[0], 1))), axis=1)\n",
    "        \n",
    "        # Determine randomly if a self-link should be generated\n",
    "        if random.uniform(0,1) <= self.p_selflink:\n",
    "            weights[weights.shape[0]-1, weights.shape[1]-1] = 1\n",
    "        \n",
    "        # Create connections with the new agents in the network\n",
    "        # Always at least one incoming and outgoing link, to preserve strong connectedness\n",
    "        out_agent = np.random.randint(weights.shape[0]-1)\n",
    "        in_agent = np.random.randint(weights.shape[0]-1)\n",
    "        \n",
    "        weights[weights.shape[0]-1, out_agent] = 1\n",
    "        weights[in_agent, weights.shape[1]-1] = 1\n",
    "        \n",
    "        return weights\n",
    "            \n",
    "    def grow_network_instant(self, n_agents, increase_degree=False):\n",
    "        \"\"\"\n",
    "        Creates a network of size n_agents x n_agents and makes the links.\n",
    "        \n",
    "        Input:\n",
    "            n_agents: int, number of agents (and therefore dimensions) of the network\n",
    "        Output:\n",
    "            network: array, size n_agents x n_agents representing the network\n",
    "        \"\"\"\n",
    "        \n",
    "        weights = np.zeros((n_agents, n_agents))\n",
    "        beliefs = []\n",
    "        \n",
    "        #for i in tqdm(range(n_agents)):\n",
    "        for i in range(n_agents):\n",
    "            # Ensure first agent receives a self loop to ensure aperiodicity\n",
    "            if i == 0:\n",
    "                weights[0,0] = 1\n",
    "                continue\n",
    "            \n",
    "            # Determine which agents will recieve and send a link to agent i\n",
    "            # Must have on of both to ensure full connectedness.\n",
    "            # Chosen from the range of \n",
    "            in_link = np.random.randint(i)\n",
    "            out_link = np.random.randint(i)\n",
    "            \n",
    "            if not weights[in_link, i]:\n",
    "                weights[in_link, i] = 1\n",
    "            weights[i, out_link] = 1\n",
    "            \n",
    "            if random.uniform(0,1) <= self.p_selflink:\n",
    "                weights[i,i] = 1\n",
    "            \n",
    "            if increase_degree:            \n",
    "                add_in_degree = int(np.floor(np.random.normal(2, 1)))\n",
    "                add_out_degree = int(np.floor(np.random.normal(2, 1)))\n",
    "\n",
    "                if add_in_degree > 0:\n",
    "                    for _ in range(add_in_degree):\n",
    "                        j = np.random.randint(0, n_agents)\n",
    "                        weights[j, i] = 1\n",
    "                if add_out_degree > 0: \n",
    "                    for _ in range(add_out_degree):\n",
    "                        j = np.random.randint(0, n_agents)\n",
    "                        weights[i, j] = 1\n",
    "            \n",
    "            beliefs = self.grow_beliefs(beliefs)\n",
    "                \n",
    "        return weights, beliefs\n",
    "    \n",
    "    def grow_beliefs(self, beliefs):\n",
    "        signal = self.gen_signal()\n",
    "        if signal < 0:\n",
    "            beliefs.append(0)\n",
    "        elif signal > 1:\n",
    "            beliefs.append(1)\n",
    "        else:\n",
    "            beliefs.append(signal)\n",
    "        return beliefs\n",
    "    \n",
    "    def gen_signal(self):\n",
    "        return np.random.normal(self.truth, self.truth**2)\n",
    "    \n",
    "    def converge_network(self, T):\n",
    "        \"\"\"\n",
    "        Converges the current network.\n",
    "        Returns the amount of iterations required for convergence\n",
    "        \n",
    "        Output:\n",
    "            counter: int, the step t at which the network converges\n",
    "        \"\"\"\n",
    "        counter = 0\n",
    "        prev_T = np.zeros(T.shape)\n",
    "        while (prev_T - T).sum() != 0:\n",
    "            prev_T = T\n",
    "            T = T @ self.T\n",
    "            counter+=1\n",
    "        return counter-1"
   ]
  },
  {
   "cell_type": "code",
   "execution_count": 145,
   "metadata": {
    "scrolled": false
   },
   "outputs": [
    {
     "data": {
      "application/vnd.jupyter.widget-view+json": {
       "model_id": "85a0582d2ebd4f67a4783bf706ce89fe",
       "version_major": 2,
       "version_minor": 0
      },
      "text/plain": [
       "  0%|          | 0/11 [00:00<?, ?it/s]"
      ]
     },
     "metadata": {},
     "output_type": "display_data"
    },
    {
     "data": {
      "application/vnd.jupyter.widget-view+json": {
       "model_id": "5f767e70178c4e139471964ea05e5cec",
       "version_major": 2,
       "version_minor": 0
      },
      "text/plain": [
       "  0%|          | 0/11 [00:00<?, ?it/s]"
      ]
     },
     "metadata": {},
     "output_type": "display_data"
    },
    {
     "data": {
      "application/vnd.jupyter.widget-view+json": {
       "model_id": "0ad39c600da5424dbf6f2c03beb8ca6f",
       "version_major": 2,
       "version_minor": 0
      },
      "text/plain": [
       "  0%|          | 0/11 [00:00<?, ?it/s]"
      ]
     },
     "metadata": {},
     "output_type": "display_data"
    },
    {
     "data": {
      "application/vnd.jupyter.widget-view+json": {
       "model_id": "3fc5dca5ac4d45e2a0be58bd8e95d591",
       "version_major": 2,
       "version_minor": 0
      },
      "text/plain": [
       "  0%|          | 0/11 [00:00<?, ?it/s]"
      ]
     },
     "metadata": {},
     "output_type": "display_data"
    },
    {
     "data": {
      "application/vnd.jupyter.widget-view+json": {
       "model_id": "04a2cbfeda884455aaab4ca5b142231b",
       "version_major": 2,
       "version_minor": 0
      },
      "text/plain": [
       "  0%|          | 0/11 [00:00<?, ?it/s]"
      ]
     },
     "metadata": {},
     "output_type": "display_data"
    },
    {
     "data": {
      "application/vnd.jupyter.widget-view+json": {
       "model_id": "66d911acd7ff448b939abd6a6383fc65",
       "version_major": 2,
       "version_minor": 0
      },
      "text/plain": [
       "  0%|          | 0/11 [00:00<?, ?it/s]"
      ]
     },
     "metadata": {},
     "output_type": "display_data"
    },
    {
     "data": {
      "application/vnd.jupyter.widget-view+json": {
       "model_id": "bc34f991b93a43d0a58ecc98908868ca",
       "version_major": 2,
       "version_minor": 0
      },
      "text/plain": [
       "  0%|          | 0/11 [00:00<?, ?it/s]"
      ]
     },
     "metadata": {},
     "output_type": "display_data"
    },
    {
     "data": {
      "application/vnd.jupyter.widget-view+json": {
       "model_id": "bc1fa411b1ab41aeb1257fa80e26e1d7",
       "version_major": 2,
       "version_minor": 0
      },
      "text/plain": [
       "  0%|          | 0/11 [00:00<?, ?it/s]"
      ]
     },
     "metadata": {},
     "output_type": "display_data"
    },
    {
     "data": {
      "application/vnd.jupyter.widget-view+json": {
       "model_id": "8c8c881f2a2542aeb5900ddb2d3cffe3",
       "version_major": 2,
       "version_minor": 0
      },
      "text/plain": [
       "  0%|          | 0/11 [00:00<?, ?it/s]"
      ]
     },
     "metadata": {},
     "output_type": "display_data"
    },
    {
     "data": {
      "application/vnd.jupyter.widget-view+json": {
       "model_id": "77dcbdd5c9b94c9daf4bbe50b088cec8",
       "version_major": 2,
       "version_minor": 0
      },
      "text/plain": [
       "  0%|          | 0/11 [00:00<?, ?it/s]"
      ]
     },
     "metadata": {},
     "output_type": "display_data"
    },
    {
     "data": {
      "image/png": "[encoded data removed]",
      "text/plain": [
       "<Figure size 432x288 with 1 Axes>"
      ]
     },
     "metadata": {
      "needs_background": "light"
     },
     "output_type": "display_data"
    },
    {
     "data": {
      "image/png": "[encoded data removed]",
      "text/plain": [
       "<Figure size 432x288 with 1 Axes>"
      ]
     },
     "metadata": {
      "needs_background": "light"
     },
     "output_type": "display_data"
    },
    {
     "data": {
      "image/png": "[encoded data removed]",
      "text/plain": [
       "<Figure size 432x288 with 1 Axes>"
      ]
     },
     "metadata": {
      "needs_background": "light"
     },
     "output_type": "display_data"
    },
    {
     "data": {
      "image/png": "[encoded data removed]",
      "text/plain": [
       "<Figure size 432x288 with 1 Axes>"
      ]
     },
     "metadata": {
      "needs_background": "light"
     },
     "output_type": "display_data"
    },
    {
     "data": {
      "image/png": "[encoded data removed]",
      "text/plain": [
       "<Figure size 432x288 with 1 Axes>"
      ]
     },
     "metadata": {
      "needs_background": "light"
     },
     "output_type": "display_data"
    }
   ],
   "source": [
    "Network = Network()"
   ]
  },
  {
   "cell_type": "code",
   "execution_count": 73,
   "metadata": {},
   "outputs": [
    {
     "ename": "AttributeError",
     "evalue": "type object 'Network' has no attribute 'T'",
     "output_type": "error",
     "traceback": [
      "\u001b[0;31m---------------------------------------------------------------------------\u001b[0m",
      "\u001b[0;31mAttributeError\u001b[0m                            Traceback (most recent call last)",
      "\u001b[0;32m<ipython-input-73-d0f688900f66>\u001b[0m in \u001b[0;36m<module>\u001b[0;34m\u001b[0m\n\u001b[0;32m----> 1\u001b[0;31m \u001b[0mprint\u001b[0m\u001b[0;34m(\u001b[0m\u001b[0mNetwork\u001b[0m\u001b[0;34m.\u001b[0m\u001b[0mT\u001b[0m\u001b[0;34m)\u001b[0m\u001b[0;34m\u001b[0m\u001b[0;34m\u001b[0m\u001b[0m\n\u001b[0m",
      "\u001b[0;31mAttributeError\u001b[0m: type object 'Network' has no attribute 'T'"
     ]
    }
   ],
   "source": [
    "print(Network.T)"
   ]
  },
  {
   "cell_type": "code",
   "execution_count": 43,
   "metadata": {},
   "outputs": [
    {
     "data": {
      "text/plain": [
       "array([[0.]])"
      ]
     },
     "execution_count": 43,
     "metadata": {},
     "output_type": "execute_result"
    }
   ],
   "source": [
    "np.zeros((1,1))[:1, :1]"
   ]
  },
  {
   "cell_type": "code",
   "execution_count": 44,
   "metadata": {},
   "outputs": [],
   "source": [
    "def test_for_else():\n",
    "    for i in range(10):\n",
    "        if i == 5:\n",
    "            return\n",
    "    else:\n",
    "        print(\"Hij komt ook bij else clause bij een return\")\n",
    "        \n",
    "test_for_else()"
   ]
  },
  {
   "cell_type": "code",
   "execution_count": null,
   "metadata": {},
   "outputs": [],
   "source": []
  }
 ],
 "metadata": {
  "kernelspec": {
   "display_name": "Python (python39)",
   "language": "python",
   "name": "python39"
  },
  "language_info": {
   "codemirror_mode": {
    "name": "ipython",
    "version": 3
   },
   "file_extension": ".py",
   "mimetype": "text/x-python",
   "name": "python",
   "nbconvert_exporter": "python",
   "pygments_lexer": "ipython3",
   "version": "3.9.2"
  }
 },
 "nbformat": 4,
 "nbformat_minor": 4
}
